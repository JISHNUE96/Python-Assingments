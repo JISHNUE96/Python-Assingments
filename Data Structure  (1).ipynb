{
 "cells": [
  {
   "cell_type": "code",
   "execution_count": 1,
   "id": "9ed29d8e-184b-40b3-9400-075437172e63",
   "metadata": {},
   "outputs": [
    {
     "name": "stdout",
     "output_type": "stream",
     "text": [
      "List of random numbers: [4, 7, 1, 9, 3]\n"
     ]
    }
   ],
   "source": [
    "#Topic: List\n",
    "# Q1. Create a list of 5 random numbers and print the list\n",
    "\n",
    "numbers = [4, 7, 1, 9, 3]\n",
    "print(\"List of random numbers:\", numbers)"
   ]
  },
  {
   "cell_type": "code",
   "execution_count": 2,
   "id": "5f94fbd2-bb97-4f58-a15d-ad5613aee763",
   "metadata": {},
   "outputs": [
    {
     "name": "stdout",
     "output_type": "stream",
     "text": [
      "Updated list: [4, 7, 1, 9, 3, 5, 2, 8]\n"
     ]
    }
   ],
   "source": [
    "# Q2. Insert 3 new values to the list and print the updated list\n",
    "\n",
    "numbers.extend([5, 2, 8])\n",
    "print(\"Updated list:\", numbers)\n"
   ]
  },
  {
   "cell_type": "code",
   "execution_count": 3,
   "id": "7c597bef-0a06-4668-beb8-19671d1e4ed7",
   "metadata": {},
   "outputs": [
    {
     "name": "stdout",
     "output_type": "stream",
     "text": [
      "Third element: 1\n"
     ]
    }
   ],
   "source": [
    "# Q3. Access the third element in the list and print the element\n",
    "\n",
    "print(\"Third element:\", numbers[2])"
   ]
  },
  {
   "cell_type": "code",
   "execution_count": 4,
   "id": "85aad4a9-1f80-4d39-ba35-91b7776bedb8",
   "metadata": {},
   "outputs": [
    {
     "name": "stdout",
     "output_type": "stream",
     "text": [
      "Combined list: [4, 7, 1, 9, 3, 5, 2, 8, 'Earth', 'Fire', 'water']\n"
     ]
    }
   ],
   "source": [
    "# Q4. Create a new list of 3 random strings and concatenate the two lists into a third list\n",
    "\n",
    "strings = [\"Earth\", \"Fire\", \"water\"]\n",
    "combined_list = numbers + strings\n",
    "print(\"Combined list:\", combined_list)"
   ]
  },
  {
   "cell_type": "code",
   "execution_count": 5,
   "id": "337ed2bf-fccd-45d2-9a0e-c4463df97934",
   "metadata": {},
   "outputs": [
    {
     "name": "stdout",
     "output_type": "stream",
     "text": [
      "4\n",
      "7\n",
      "1\n",
      "9\n",
      "3\n",
      "5\n",
      "2\n",
      "8\n",
      "Earth\n",
      "Fire\n",
      "water\n"
     ]
    }
   ],
   "source": [
    "# Q5. Use a for loop to print each element in the list\n",
    "\n",
    "for element in combined_list:\n",
    "    print(element)"
   ]
  },
  {
   "cell_type": "code",
   "execution_count": 6,
   "id": "b6e3d409-079d-4edd-84c8-c23536716284",
   "metadata": {},
   "outputs": [
    {
     "name": "stdout",
     "output_type": "stream",
     "text": [
      "Dictionary: {'name': 'John', 'age': 25, 'address': 'New York'}\n"
     ]
    }
   ],
   "source": [
    "#Topic: Dictionary\n",
    "# Q1. Create a dictionary with keys 'name', 'age', and 'address'\n",
    "\n",
    "person = {'name': 'John', 'age': 25, 'address': 'New York'}\n",
    "print(\"Dictionary:\", person)"
   ]
  },
  {
   "cell_type": "code",
   "execution_count": 7,
   "id": "771bb38e-ff33-438e-89bf-73650a6550c2",
   "metadata": {},
   "outputs": [
    {
     "name": "stdout",
     "output_type": "stream",
     "text": [
      "Updated dictionary: {'name': 'John', 'age': 25, 'address': 'New York', 'phone': '1234567890'}\n"
     ]
    }
   ],
   "source": [
    "# Q2. Add a new key-value pair to the dictionary with key 'phone' and value '1234567890'\n",
    "\n",
    "person['phone'] = '1234567890'\n",
    "print(\"Updated dictionary:\", person)"
   ]
  },
  {
   "cell_type": "code",
   "execution_count": 8,
   "id": "326da925-397e-448f-b73f-21d99c77d697",
   "metadata": {},
   "outputs": [
    {
     "name": "stdout",
     "output_type": "stream",
     "text": [
      "Dictionary after removal of 'address': {'name': 'John', 'age': 25, 'phone': '1234567890'}\n"
     ]
    }
   ],
   "source": [
    "# Q3. Remove the key 'address' from the dictionary\n",
    "\n",
    "person.pop('address')\n",
    "print(\"Dictionary after removal of 'address':\", person)"
   ]
  },
  {
   "cell_type": "code",
   "execution_count": 9,
   "id": "72937440-4c79-4a85-887d-35f07307b4a2",
   "metadata": {},
   "outputs": [
    {
     "name": "stdout",
     "output_type": "stream",
     "text": [
      "Age: 25\n"
     ]
    }
   ],
   "source": [
    "# Q4. Print the value of the key 'age'\n",
    "\n",
    "print(\"Age:\", person['age'])"
   ]
  },
  {
   "cell_type": "code",
   "execution_count": 10,
   "id": "7564465c-ead4-4def-a36e-4f17d04e7a12",
   "metadata": {},
   "outputs": [
    {
     "name": "stdout",
     "output_type": "stream",
     "text": [
      "'phone' key exists: True\n"
     ]
    }
   ],
   "source": [
    "# Q5. Check if the key 'phone' exists in the dictionary\n",
    "\n",
    "print(\"'phone' key exists:\", 'phone' in person)"
   ]
  },
  {
   "cell_type": "code",
   "execution_count": 11,
   "id": "b55f20c0-9a14-4a2d-beae-c04a9f97c51d",
   "metadata": {},
   "outputs": [
    {
     "name": "stdout",
     "output_type": "stream",
     "text": [
      "Set: {1, 2, 3, 4, 5}\n"
     ]
    }
   ],
   "source": [
    "#Topic: Set\n",
    "# Q1. Create a set with values 1, 2, 3, 4, and 5\n",
    "\n",
    "numbers_set = {1, 2, 3, 4, 5}\n",
    "print(\"Set:\", numbers_set)\n"
   ]
  },
  {
   "cell_type": "code",
   "execution_count": 12,
   "id": "96849698-9d0d-4fd8-a5a6-1da357312086",
   "metadata": {},
   "outputs": [
    {
     "name": "stdout",
     "output_type": "stream",
     "text": [
      "Set after adding 6: {1, 2, 3, 4, 5, 6}\n"
     ]
    }
   ],
   "source": [
    "# Q2. Add the value 6 to the set\n",
    "\n",
    "numbers_set.add(6)\n",
    "print(\"Set after adding 6:\", numbers_set)"
   ]
  },
  {
   "cell_type": "code",
   "execution_count": 13,
   "id": "d89eaa8f-77fd-475a-b36a-d659721c9851",
   "metadata": {},
   "outputs": [
    {
     "name": "stdout",
     "output_type": "stream",
     "text": [
      "Set after removing 3: {1, 2, 4, 5, 6}\n"
     ]
    }
   ],
   "source": [
    "# Q3. Remove the value 3 from the set\n",
    "\n",
    "numbers_set.discard(3)\n",
    "print(\"Set after removing 3:\", numbers_set)\n"
   ]
  },
  {
   "cell_type": "code",
   "execution_count": 14,
   "id": "e5faa1cb-1d15-4854-8cda-8501e1043656",
   "metadata": {},
   "outputs": [
    {
     "name": "stdout",
     "output_type": "stream",
     "text": [
      "Length of set: 5\n"
     ]
    }
   ],
   "source": [
    "# Q4. Print the length of the set\n",
    "\n",
    "print(\"Length of set:\", len(numbers_set))\n"
   ]
  },
  {
   "cell_type": "code",
   "execution_count": 15,
   "id": "b542df99-36d8-4a0f-8f2a-a367a143da0b",
   "metadata": {},
   "outputs": [
    {
     "name": "stdout",
     "output_type": "stream",
     "text": [
      "Union of sets: {1, 2, 4, 5, 6, 7, 8}\n"
     ]
    }
   ],
   "source": [
    "# Q5. Create a new set by union of the set with another set {6, 7, 8}\n",
    "\n",
    "new_set = numbers_set.union({6, 7, 8})\n",
    "print(\"Union of sets:\", new_set)\n"
   ]
  },
  {
   "cell_type": "code",
   "execution_count": 16,
   "id": "f8b6c752-f633-4fb7-8049-40359f2325bf",
   "metadata": {},
   "outputs": [
    {
     "name": "stdout",
     "output_type": "stream",
     "text": [
      "Tuple: (1, 2, 3, 4)\n"
     ]
    }
   ],
   "source": [
    "#Topic: Tuple\n",
    "# Q1. Create a tuple with values 1, 2, 3, and 4\n",
    "\n",
    "tuple1 = (1, 2, 3, 4)\n",
    "print(\"Tuple:\", tuple1)\n"
   ]
  },
  {
   "cell_type": "code",
   "execution_count": 17,
   "id": "17780f3c-ed4f-45c3-a1ad-d811059b2018",
   "metadata": {},
   "outputs": [
    {
     "name": "stdout",
     "output_type": "stream",
     "text": [
      "Length of tuple: 4\n"
     ]
    }
   ],
   "source": [
    "# Q2. Print the length of the tuple\n",
    "\n",
    "print(\"Length of tuple:\", len(tuple1))\n"
   ]
  },
  {
   "cell_type": "code",
   "execution_count": 18,
   "id": "1ac87e79-2d1f-4750-b059-73b29ace2c89",
   "metadata": {},
   "outputs": [
    {
     "name": "stdout",
     "output_type": "stream",
     "text": [
      "Concatenated tuple: (1, 2, 3, 4, 5, 6)\n"
     ]
    }
   ],
   "source": [
    "# Q3. Create a new tuple by concatenating the tuple with another tuple (5, 6)\n",
    "\n",
    "tuple2 = tuple1 + (5, 6)\n",
    "print(\"Concatenated tuple:\", tuple2)"
   ]
  },
  {
   "cell_type": "code",
   "execution_count": 19,
   "id": "ffa7acb8-9d30-4d1c-9f68-8f6f600732ae",
   "metadata": {},
   "outputs": [
    {
     "name": "stdout",
     "output_type": "stream",
     "text": [
      "First two values of the tuple: (1, 2)\n"
     ]
    }
   ],
   "source": [
    "# Q4. Print the first two values of the tuple\n",
    "\n",
    "print(\"First two values of the tuple:\", tuple2[:2])\n"
   ]
  },
  {
   "cell_type": "code",
   "execution_count": 20,
   "id": "11f425b3-77de-4887-8481-14bf6c7958d3",
   "metadata": {},
   "outputs": [
    {
     "name": "stdout",
     "output_type": "stream",
     "text": [
      "Does 4 exist in the tuple? True\n"
     ]
    }
   ],
   "source": [
    "# Q5. Check if the value 4 exists in the tuple\n",
    "\n",
    "print(\"Does 4 exist in the tuple?\", 4 in tuple1)\n"
   ]
  },
  {
   "cell_type": "code",
   "execution_count": 21,
   "id": "f3534736-901c-42b4-8e74-9b2e6ce09010",
   "metadata": {},
   "outputs": [
    {
     "name": "stdin",
     "output_type": "stream",
     "text": [
      "Please enter your first name:  jishnu \n",
      "Please enter your last name:  karat\n"
     ]
    },
    {
     "name": "stdout",
     "output_type": "stream",
     "text": [
      "Your full name is JISHNU  KARAT\n",
      "Your initials are J K\n",
      "First name length is 7 letters\n",
      "Last name length is 5 letters\n",
      "Full name length is 12 letters\n",
      "First name starts with J\n",
      "First name ends with  \n",
      "Last name starts with K\n",
      "Last name ends with T\n",
      "First name indexes are 0 – 6\n",
      "Last name indexes are 0 – 4\n",
      "First name trims 1 jis\n",
      "First name trims 2 ishnu \n",
      "Last name trims 1 kar\n",
      "Last name trims 2 arat\n"
     ]
    }
   ],
   "source": [
    "#Topic: String, List-Set-Dictionary Comprehension\n",
    "# Q1. Name Manipulation Example\n",
    "\n",
    "first_name = input(\"Please enter your first name: \")\n",
    "last_name = input(\"Please enter your last name: \")\n",
    "\n",
    "full_name = first_name.upper() + \" \" + last_name.upper()\n",
    "initials = first_name[0].upper() + \" \" + last_name[0].upper()\n",
    "\n",
    "print(f\"Your full name is {full_name}\")\n",
    "print(f\"Your initials are {initials}\")\n",
    "print(f\"First name length is {len(first_name)} letters\")\n",
    "print(f\"Last name length is {len(last_name)} letters\")\n",
    "print(f\"Full name length is {len(first_name) + len(last_name)} letters\")\n",
    "print(f\"First name starts with {first_name[0].upper()}\")\n",
    "print(f\"First name ends with {first_name[-1].upper()}\")\n",
    "print(f\"Last name starts with {last_name[0].upper()}\")\n",
    "print(f\"Last name ends with {last_name[-1].upper()}\")\n",
    "print(f\"First name indexes are 0 – {len(first_name) - 1}\")\n",
    "print(f\"Last name indexes are 0 – {len(last_name) - 1}\")\n",
    "print(f\"First name trims 1 {first_name[:3]}\")\n",
    "print(f\"First name trims 2 {first_name[1:]}\")\n",
    "print(f\"Last name trims 1 {last_name[:3]}\")\n",
    "print(f\"Last name trims 2 {last_name[1:]}\")\n"
   ]
  },
  {
   "cell_type": "code",
   "execution_count": 22,
   "id": "e369aed2-f18c-4b79-aa23-552fb5b77e49",
   "metadata": {},
   "outputs": [
    {
     "name": "stdin",
     "output_type": "stream",
     "text": [
      "Enter your name:  jishnu ekarat\n"
     ]
    },
    {
     "name": "stdout",
     "output_type": "stream",
     "text": [
      "Encrypted name: j**t\n"
     ]
    }
   ],
   "source": [
    "# Q2. Partly encrypt and display name\n",
    "\n",
    "name = input(\"Enter your name: \")\n",
    "encrypted_name = name[0] + \"**\" + name[-1]\n",
    "print(\"Encrypted name:\", encrypted_name)\n"
   ]
  },
  {
   "cell_type": "code",
   "execution_count": 23,
   "id": "4202923b-2435-4681-abaf-b594e76e643a",
   "metadata": {},
   "outputs": [
    {
     "name": "stdout",
     "output_type": "stream",
     "text": [
      "Expected Result: 2\n"
     ]
    }
   ],
   "source": [
    "# Q3. Count strings with same first and last characters\n",
    "\n",
    "strings_list = ['abc', 'xyz', 'aba', '1221']\n",
    "count = sum(1 for s in strings_list if len(s) >= 2 and s[0] == s[-1])\n",
    "print(\"Expected Result:\", count)\n"
   ]
  },
  {
   "cell_type": "code",
   "execution_count": 24,
   "id": "a2cff1e8-6d83-41ec-83d6-1ef78dae37ac",
   "metadata": {},
   "outputs": [
    {
     "name": "stdout",
     "output_type": "stream",
     "text": [
      "Numbers divisible by 7: [7, 14, 21, 28, 35, 42, 49, 56, 63, 70, 77, 84, 91, 98, 105, 112, 119, 126, 133, 140, 147, 154, 161, 168, 175, 182, 189, 196, 203, 210, 217, 224, 231, 238, 245, 252, 259, 266, 273, 280, 287, 294, 301, 308, 315, 322, 329, 336, 343, 350, 357, 364, 371, 378, 385, 392, 399, 406, 413, 420, 427, 434, 441, 448, 455, 462, 469, 476, 483, 490, 497, 504, 511, 518, 525, 532, 539, 546, 553, 560, 567, 574, 581, 588, 595, 602, 609, 616, 623, 630, 637, 644, 651, 658, 665, 672, 679, 686, 693, 700, 707, 714, 721, 728, 735, 742, 749, 756, 763, 770, 777, 784, 791, 798, 805, 812, 819, 826, 833, 840, 847, 854, 861, 868, 875, 882, 889, 896, 903, 910, 917, 924, 931, 938, 945, 952, 959, 966, 973, 980, 987, 994]\n"
     ]
    }
   ],
   "source": [
    "# Q4. Numbers divisible by 7\n",
    "\n",
    "divisible_by_7 = [x for x in range(1, 1001) if x % 7 == 0]\n",
    "print(\"Numbers divisible by 7:\", divisible_by_7)\n"
   ]
  },
  {
   "cell_type": "code",
   "execution_count": 25,
   "id": "1dc840c8-2a06-4876-8f4f-e1ace4b6c183",
   "metadata": {},
   "outputs": [
    {
     "name": "stdout",
     "output_type": "stream",
     "text": [
      "Dictionary: {3: 1, 6: 2, 9: 3, 12: 4}\n"
     ]
    }
   ],
   "source": [
    "# Q5. Dictionary with values divided by 3\n",
    "\n",
    "lst = [3, 6, 9, 12]\n",
    "div_by_3_dict = {x: x // 3 for x in lst}\n",
    "print(\"Dictionary:\", div_by_3_dict)\n"
   ]
  },
  {
   "cell_type": "code",
   "execution_count": null,
   "id": "b1ce8150-d01b-4e92-a6c0-5aec06d4447a",
   "metadata": {},
   "outputs": [],
   "source": []
  },
  {
   "cell_type": "code",
   "execution_count": null,
   "id": "35cfff92-78ed-46c8-bda7-a6bd56d9d200",
   "metadata": {},
   "outputs": [],
   "source": []
  }
 ],
 "metadata": {
  "kernelspec": {
   "display_name": "Python 3 (ipykernel)",
   "language": "python",
   "name": "python3"
  },
  "language_info": {
   "codemirror_mode": {
    "name": "ipython",
    "version": 3
   },
   "file_extension": ".py",
   "mimetype": "text/x-python",
   "name": "python",
   "nbconvert_exporter": "python",
   "pygments_lexer": "ipython3",
   "version": "3.12.4"
  }
 },
 "nbformat": 4,
 "nbformat_minor": 5
}
