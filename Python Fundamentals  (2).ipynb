{
 "cells": [
  {
   "cell_type": "code",
   "execution_count": 1,
   "id": "e2bb324c-3db3-4240-ab51-53315fd552c6",
   "metadata": {},
   "outputs": [
    {
     "name": "stdout",
     "output_type": "stream",
     "text": [
      "Jishnu E Karat\n",
      "ST2255\n",
      "jishnuekarat@gmail.com\n"
     ]
    }
   ],
   "source": [
    "# Exercise 1: Print your name, student number, and email address\n",
    "\n",
    "print(\"Jishnu E Karat\")\n",
    "print(\"ST2255\")\n",
    "print(\"jishnuekarat@gmail.com\")\n"
   ]
  },
  {
   "cell_type": "code",
   "execution_count": 2,
   "id": "9b40b4d3-e3fb-440c-b580-7e81022eca0a",
   "metadata": {},
   "outputs": [
    {
     "name": "stdout",
     "output_type": "stream",
     "text": [
      "Jishnu E Karat\n",
      "ST2255\n",
      "jishnuekarat@gmail.com\n"
     ]
    }
   ],
   "source": [
    "# Exercise 2: Using escape sequences\n",
    "\n",
    "print(\"Jishnu E Karat\\nST2255\\njishnuekarat@gmail.com\")\n"
   ]
  },
  {
   "cell_type": "code",
   "execution_count": 3,
   "id": "b6b1797f-a105-416e-a9c4-19e107244454",
   "metadata": {},
   "outputs": [
    {
     "name": "stdout",
     "output_type": "stream",
     "text": [
      "14 + 7 = 21\n",
      "14 - 7 = 7\n",
      "14 * 7 = 98\n",
      "14 / 7 = 2.0\n"
     ]
    }
   ],
   "source": [
    "# Exercise 3: Basic arithmetic operations with two numbers (14 and 7\n",
    "\n",
    "a = 14\n",
    "b = 7\n",
    "print(f\"{a} + {b} = {a + b}\")\n",
    "print(f\"{a} - {b} = {a - b}\")\n",
    "print(f\"{a} * {b} = {a * b}\")\n",
    "print(f\"{a} / {b} = {a / b}\")\n"
   ]
  },
  {
   "cell_type": "code",
   "execution_count": 4,
   "id": "977a5a92-aa4d-495b-b862-a3090ad9ce4c",
   "metadata": {},
   "outputs": [
    {
     "name": "stdout",
     "output_type": "stream",
     "text": [
      "1\n",
      "2\n",
      "3\n",
      "4\n",
      "5\n"
     ]
    }
   ],
   "source": [
    "# Exercise 4: Print numbers from 1 to 5 as steps\n",
    "\n",
    "for i in range(1, 6):\n",
    "    print(i)\n"
   ]
  },
  {
   "cell_type": "code",
   "execution_count": 5,
   "id": "0344e534-8e28-47b1-8f72-6f5f5439b397",
   "metadata": {},
   "outputs": [
    {
     "name": "stdout",
     "output_type": "stream",
     "text": [
      "\"SDK\" stands for \"Software Development Kit\", whereas\n",
      "\"IDE\" stands for \"Integrated Development Environment\".\n"
     ]
    }
   ],
   "source": [
    "# Exercise 5: Python code that outputs the following sentence (including the quotation marks and line break)\n",
    "\n",
    "print(\"\\\"SDK\\\" stands for \\\"Software Development Kit\\\", whereas\\n\\\"IDE\\\" stands for \\\"Integrated Development Environment\\\".\")\n"
   ]
  },
  {
   "cell_type": "code",
   "execution_count": 6,
   "id": "f10c52b0-0e43-462f-89c7-cf363f263563",
   "metadata": {},
   "outputs": [
    {
     "name": "stdout",
     "output_type": "stream",
     "text": [
      "python is an \"awesome\" language.\n",
      "python\n",
      "\t2023\n",
      "I'm from Entri\n",
      "5\n",
      "e\n",
      "Entri\n",
      "2023\n",
      "Entr2023\n",
      "Entri*20"
     ]
    }
   ],
   "source": [
    "# Exercise 6: Check outputs for different print scenarios\n",
    "\n",
    "print(\"python is an \\\"awesome\\\" language.\")   \n",
    "print(\"python\\n\\t2023\")                      \n",
    "print('I\\'m from Entri.\\b')                  \n",
    "print(\"\\65\")                                 \n",
    "print(\"\\x65\")                                \n",
    "print(\"Entri\", \"2023\", sep=\"\\n\")            \n",
    "print(\"Entri\", \"2023\", sep=\"\\b\")             \n",
    "print(\"Entri\", \"2023\", sep=\"*\", end=\"\\b\\b\\b\\b\") \n"
   ]
  },
  {
   "cell_type": "code",
   "execution_count": 7,
   "id": "5056008d-60e6-4c8e-aefd-80eac1b2b71d",
   "metadata": {},
   "outputs": [
    {
     "name": "stdout",
     "output_type": "stream",
     "text": [
      "<class 'int'>\n",
      "<class 'str'>\n",
      "<class 'float'>\n",
      "Sum: 178.3, Type: <class 'float'>\n"
     ]
    }
   ],
   "source": [
    "# Exercise 7: Variables and type conversion\n",
    "\n",
    "num = 23\n",
    "textnum = \"57\"\n",
    "decimal = 98.3\n",
    "\n",
    "# Print types of each variable\n",
    "\n",
    "print(type(num))        # int\n",
    "print(type(textnum))    # str\n",
    "print(type(decimal))    # float\n",
    "\n",
    "# Convert textnum to int and calculate sum\n",
    "\n",
    "sum_of_vars = num + int(textnum) + decimal\n",
    "print(f\"Sum: {sum_of_vars}, Type: {type(sum_of_vars)}\")  \n"
   ]
  },
  {
   "cell_type": "code",
   "execution_count": 8,
   "id": "c0b75abb-c8d0-44bd-aa09-9f3d1c252ec9",
   "metadata": {},
   "outputs": [
    {
     "name": "stdout",
     "output_type": "stream",
     "text": [
      "There are 525600 minutes in a year.\n"
     ]
    }
   ],
   "source": [
    "# Exercise 8: Calculate the number of minutes in a year\n",
    "\n",
    "days_in_year = 365\n",
    "hours_in_day = 24\n",
    "minutes_in_hour = 60\n",
    "\n",
    "# Calculate total minutes in a year\n",
    "\n",
    "total_minutes = days_in_year * hours_in_day * minutes_in_hour\n",
    "print(f\"There are {total_minutes} minutes in a year.\")\n"
   ]
  },
  {
   "cell_type": "code",
   "execution_count": 9,
   "id": "fa751e49-f611-4987-823e-f3ba4557c7b4",
   "metadata": {},
   "outputs": [
    {
     "name": "stdin",
     "output_type": "stream",
     "text": [
      "Please enter your name:JISHNU E KARAT 546\n"
     ]
    },
    {
     "name": "stdout",
     "output_type": "stream",
     "text": [
      "Hi 546, welcome to Python programming \n"
     ]
    }
   ],
   "source": [
    "# Exercise 9: Greet the user by their name\n",
    "\n",
    "name = input(\"Please enter your name:JISHNU E KARAT\")\n",
    "print(f\"Hi {name}, welcome to Python programming \")\n"
   ]
  },
  {
   "cell_type": "code",
   "execution_count": null,
   "id": "df0c4967-1632-40dc-b832-a6d7afa1aea2",
   "metadata": {},
   "outputs": [],
   "source": [
    "# Exercise 10: Pounds to Dollars conversion\n",
    "\n",
    "pounds = float(input(\"Please enter amount in pounds (£): \"))\n",
    "conversion_rate = 1.25 \n",
    "dollars = pounds * conversion_rate\n",
    "print(f\"£ {pounds} are $ {dollars:.2f}\")\n"
   ]
  },
  {
   "cell_type": "code",
   "execution_count": null,
   "id": "0e653a74-ab80-4521-b684-330895185aeb",
   "metadata": {},
   "outputs": [],
   "source": []
  }
 ],
 "metadata": {
  "kernelspec": {
   "display_name": "Python 3 (ipykernel)",
   "language": "python",
   "name": "python3"
  },
  "language_info": {
   "codemirror_mode": {
    "name": "ipython",
    "version": 3
   },
   "file_extension": ".py",
   "mimetype": "text/x-python",
   "name": "python",
   "nbconvert_exporter": "python",
   "pygments_lexer": "ipython3",
   "version": "3.12.4"
  }
 },
 "nbformat": 4,
 "nbformat_minor": 5
}
