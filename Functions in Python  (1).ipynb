{
 "cells": [
  {
   "cell_type": "code",
   "execution_count": 23,
   "id": "34f3fa9a-41c8-47e3-9605-60c1df604453",
   "metadata": {},
   "outputs": [
    {
     "name": "stdout",
     "output_type": "stream",
     "text": [
      "Sum: 15\n",
      "Sum: 25\n",
      "Product: 200\n",
      "Sum: 18\n",
      "Sum: 29\n",
      "Product: 1600\n"
     ]
    }
   ],
   "source": [
    "#Exercise 1 \n",
    "\n",
    "def custom_function(arg1, arg2=10, arg3=None):\n",
    "    if arg3 is None:\n",
    "        print(f\"Sum: {arg1 + arg2}\")\n",
    "    else:\n",
    "        print(f\"Product: {arg1 * arg2 * arg3}\")\n",
    "\n",
    "\n",
    "custom_function(5)            \n",
    "custom_function(5, 20)       \n",
    "custom_function(5, 20, 2) \n",
    "custom_function(8)\n",
    "custom_function(9, 20)\n",
    "custom_function(10, 20, 8)\n"
   ]
  },
  {
   "cell_type": "code",
   "execution_count": 25,
   "id": "5b317445-9b38-443e-b7a1-ba307e97d38d",
   "metadata": {},
   "outputs": [
    {
     "name": "stdout",
     "output_type": "stream",
     "text": [
      "['JISHNU', 'KARAT', 'STUDIED', 'DATA SCIENCE']\n"
     ]
    }
   ],
   "source": [
    "#Exercise 2 \n",
    "\n",
    "def filter_strings(strings):\n",
    "    return [s for s in strings if len(s) >= 5]\n",
    "\n",
    "string_list = [\"JISHNU\", \"E\", \"KARAT\", \"IS\", \"STUDIED\", \"DATA SCIENCE\"]\n",
    "print(filter_strings(string_list)) \n"
   ]
  },
  {
   "cell_type": "code",
   "execution_count": 27,
   "id": "5760fe28-220f-4018-9e27-4e5c94779f5f",
   "metadata": {},
   "outputs": [
    {
     "name": "stdout",
     "output_type": "stream",
     "text": [
      "17\n"
     ]
    }
   ],
   "source": [
    "#Exercise 3 \n",
    "\n",
    "expression = \"3 * 5 + 2\"\n",
    "result = eval(expression)\n",
    "print(result)  "
   ]
  },
  {
   "cell_type": "code",
   "execution_count": 39,
   "id": "94bb33bf-2618-4f3a-b81f-45d314dc7f0d",
   "metadata": {},
   "outputs": [
    {
     "name": "stdout",
     "output_type": "stream",
     "text": [
      "[3, 7, 11, 13]\n",
      "[2, 3, 5, 7]\n",
      "[11, 13, 17, 19]\n"
     ]
    }
   ],
   "source": [
    "#Exercise 4 \n",
    "\n",
    "def is_prime(num):\n",
    "    if num < 2:\n",
    "        return False\n",
    "    for i in range(2, int(num**0.5) + 1):\n",
    "        if num % i == 0:\n",
    "            return False\n",
    "    return True\n",
    "\n",
    "def filter_primes(numbers):\n",
    "    return list(filter(is_prime, numbers))\n",
    "\n",
    "\n",
    "num_list = [3, 4, 7, 9, 11, 13, 15]\n",
    "print(filter_primes(num_list))\n",
    "\n",
    "num_list = [0, 1, 2, 3, 4, 5, 6, 7, 8, 9]\n",
    "print(filter_primes(num_list))\n",
    "\n",
    "num_list = [11, 12, 13, 14, 15, 16, 17, 18, 19, 20]\n",
    "print(filter_primes(num_list))\n"
   ]
  },
  {
   "cell_type": "code",
   "execution_count": 41,
   "id": "d8dbf732-f341-46f0-8344-bca1430be525",
   "metadata": {},
   "outputs": [
    {
     "name": "stdout",
     "output_type": "stream",
     "text": [
      "['PALAKKAD', 'KERALA', 'INDIA', 'ASIA', 'EARTH']\n"
     ]
    }
   ],
   "source": [
    "#Exercise 5 \n",
    "\n",
    "def to_uppercase(strings):\n",
    "    return list(map(str.upper, strings))\n",
    "\n",
    "\n",
    "string_list = [\"palakkad\", \"kerala\", \"india\", \"asia\", \"Earth\"]\n",
    "print(to_uppercase(string_list))  \n"
   ]
  },
  {
   "cell_type": "code",
   "execution_count": 43,
   "id": "273d92a2-971c-49e3-a81f-dbed323d0769",
   "metadata": {},
   "outputs": [
    {
     "name": "stdout",
     "output_type": "stream",
     "text": [
      "[8, 6, 5, 4, 5]\n"
     ]
    }
   ],
   "source": [
    "#Exercise 6 \n",
    "\n",
    "def string_lengths(strings):\n",
    "    return list(map(len, strings))\n",
    "\n",
    "\n",
    "string_list = [\"palakkad\", \"kerala\", \"india\", \"asia\", \"Earth\"]\n",
    "print(string_lengths(string_list)) \n",
    "\n"
   ]
  },
  {
   "cell_type": "code",
   "execution_count": 47,
   "id": "9d1d1e30-d87f-48f1-9d47-35eb2cdcd499",
   "metadata": {},
   "outputs": [
    {
     "name": "stdout",
     "output_type": "stream",
     "text": [
      "15\n",
      "150\n"
     ]
    }
   ],
   "source": [
    "#Exercise 7 \n",
    "\n",
    "from functools import reduce\n",
    "\n",
    "def sum_elements(numbers):\n",
    "    return reduce(lambda x, y: x + y, numbers)\n",
    "\n",
    "\n",
    "num_list = [1, 2, 3, 4, 5]\n",
    "print(sum_elements(num_list)) \n",
    "\n",
    "num_list = [10, 20, 30, 40, 50]\n",
    "print(sum_elements(num_list)) "
   ]
  },
  {
   "cell_type": "code",
   "execution_count": 53,
   "id": "73387f7d-5e9d-439d-a91d-361ba8082687",
   "metadata": {},
   "outputs": [
    {
     "name": "stdout",
     "output_type": "stream",
     "text": [
      "9\n",
      "8\n",
      "30\n"
     ]
    }
   ],
   "source": [
    "#Exercise 8 \n",
    "\n",
    "from functools import reduce\n",
    "\n",
    "def max_element(numbers):\n",
    "    return reduce(lambda x, y: x if x > y else y, numbers)\n",
    "\n",
    "\n",
    "num_list = [1, 7, 3, 9, 2]\n",
    "print(max_element(num_list))  \n",
    "\n",
    "num_list = [8, 5, 2, 7, 3]\n",
    "print(max_element(num_list))\n",
    "\n",
    "num_list = [10, 7, 30, 9, 20]\n",
    "print(max_element(num_list))"
   ]
  },
  {
   "cell_type": "code",
   "execution_count": null,
   "id": "f0edc4cc-99b7-4197-bc8d-665724d40fc1",
   "metadata": {},
   "outputs": [],
   "source": []
  }
 ],
 "metadata": {
  "kernelspec": {
   "display_name": "Python 3 (ipykernel)",
   "language": "python",
   "name": "python3"
  },
  "language_info": {
   "codemirror_mode": {
    "name": "ipython",
    "version": 3
   },
   "file_extension": ".py",
   "mimetype": "text/x-python",
   "name": "python",
   "nbconvert_exporter": "python",
   "pygments_lexer": "ipython3",
   "version": "3.12.4"
  }
 },
 "nbformat": 4,
 "nbformat_minor": 5
}
